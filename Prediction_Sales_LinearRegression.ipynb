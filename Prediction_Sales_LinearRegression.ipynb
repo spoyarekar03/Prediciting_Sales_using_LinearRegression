{
 "cells": [
  {
   "cell_type": "markdown",
   "id": "420a2622",
   "metadata": {},
   "source": [
    "Problem Statement for the Advertising data\n",
    "\n",
    "The dataset file consists of advertising expenditure incurred on different mediums and the overall increase in revenue that was seen during that time. For any business, advertising their products is very essential because it aids in the fast selling of a product, increases the popularity and awareness of the product in the market, which in turn, increases the overall sales for the product. But more than that, what matters for the business is that correct amount of investment should be done upon the advertisements such that it generates good return on investments otherwise it will just lead to an added expenditure.\n",
    "The dataset contains statistics about the increase in sales of a product in 200 different months, together with advertising budgets in each of these months for different media channels: TV, radio and newspaper. The budget and the increase in sales is in thousands of dollars.\n",
    "\n",
    "You are expected to implement regression technique and predict what would be the increase in sales given the advertisement expenditure for that month. You are free to use any ML algorithms, evaluate, fine tune and reach a best model. Also derive additional/meaningful insights from the data which can help the organization to decide upon the right channels and amount of investments to be done on each media channel. \n"
   ]
  },
  {
   "cell_type": "code",
   "execution_count": 1,
   "id": "653dc3d8",
   "metadata": {},
   "outputs": [],
   "source": [
    "import pandas as pd\n",
    "import numpy as np\n",
    "import matplotlib.pyplot as plt\n",
    "import seaborn as sns"
   ]
  },
  {
   "cell_type": "code",
   "execution_count": 2,
   "id": "8835f340",
   "metadata": {},
   "outputs": [
    {
     "data": {
      "text/html": [
       "<div>\n",
       "<style scoped>\n",
       "    .dataframe tbody tr th:only-of-type {\n",
       "        vertical-align: middle;\n",
       "    }\n",
       "\n",
       "    .dataframe tbody tr th {\n",
       "        vertical-align: top;\n",
       "    }\n",
       "\n",
       "    .dataframe thead th {\n",
       "        text-align: right;\n",
       "    }\n",
       "</style>\n",
       "<table border=\"1\" class=\"dataframe\">\n",
       "  <thead>\n",
       "    <tr style=\"text-align: right;\">\n",
       "      <th></th>\n",
       "      <th>TV</th>\n",
       "      <th>radio</th>\n",
       "      <th>newspaper</th>\n",
       "      <th>sales</th>\n",
       "    </tr>\n",
       "  </thead>\n",
       "  <tbody>\n",
       "    <tr>\n",
       "      <th>1</th>\n",
       "      <td>230.1</td>\n",
       "      <td>37.8</td>\n",
       "      <td>69.2</td>\n",
       "      <td>22.1</td>\n",
       "    </tr>\n",
       "    <tr>\n",
       "      <th>2</th>\n",
       "      <td>44.5</td>\n",
       "      <td>39.3</td>\n",
       "      <td>45.1</td>\n",
       "      <td>10.4</td>\n",
       "    </tr>\n",
       "    <tr>\n",
       "      <th>3</th>\n",
       "      <td>17.2</td>\n",
       "      <td>45.9</td>\n",
       "      <td>69.3</td>\n",
       "      <td>9.3</td>\n",
       "    </tr>\n",
       "    <tr>\n",
       "      <th>4</th>\n",
       "      <td>151.5</td>\n",
       "      <td>41.3</td>\n",
       "      <td>58.5</td>\n",
       "      <td>18.5</td>\n",
       "    </tr>\n",
       "    <tr>\n",
       "      <th>5</th>\n",
       "      <td>180.8</td>\n",
       "      <td>10.8</td>\n",
       "      <td>58.4</td>\n",
       "      <td>12.9</td>\n",
       "    </tr>\n",
       "  </tbody>\n",
       "</table>\n",
       "</div>"
      ],
      "text/plain": [
       "      TV  radio  newspaper  sales\n",
       "1  230.1   37.8       69.2   22.1\n",
       "2   44.5   39.3       45.1   10.4\n",
       "3   17.2   45.9       69.3    9.3\n",
       "4  151.5   41.3       58.5   18.5\n",
       "5  180.8   10.8       58.4   12.9"
      ]
     },
     "execution_count": 2,
     "metadata": {},
     "output_type": "execute_result"
    }
   ],
   "source": [
    "df=pd.read_csv(r\"C:\\Users\\shrey\\OneDrive\\Desktop\\Imaritcus Notes\\Machine Learning\\Csv Files\\Advertising.csv\",index_col=0)\n",
    "df.head()"
   ]
  },
  {
   "cell_type": "code",
   "execution_count": 3,
   "id": "ceeee08e",
   "metadata": {
    "scrolled": true
   },
   "outputs": [
    {
     "data": {
      "text/html": [
       "<div>\n",
       "<style scoped>\n",
       "    .dataframe tbody tr th:only-of-type {\n",
       "        vertical-align: middle;\n",
       "    }\n",
       "\n",
       "    .dataframe tbody tr th {\n",
       "        vertical-align: top;\n",
       "    }\n",
       "\n",
       "    .dataframe thead th {\n",
       "        text-align: right;\n",
       "    }\n",
       "</style>\n",
       "<table border=\"1\" class=\"dataframe\">\n",
       "  <thead>\n",
       "    <tr style=\"text-align: right;\">\n",
       "      <th></th>\n",
       "      <th>TV</th>\n",
       "      <th>radio</th>\n",
       "      <th>newspaper</th>\n",
       "      <th>sales</th>\n",
       "    </tr>\n",
       "  </thead>\n",
       "  <tbody>\n",
       "    <tr>\n",
       "      <th>count</th>\n",
       "      <td>200.000000</td>\n",
       "      <td>200.000000</td>\n",
       "      <td>200.000000</td>\n",
       "      <td>200.000000</td>\n",
       "    </tr>\n",
       "    <tr>\n",
       "      <th>mean</th>\n",
       "      <td>147.042500</td>\n",
       "      <td>23.264000</td>\n",
       "      <td>30.554000</td>\n",
       "      <td>14.022500</td>\n",
       "    </tr>\n",
       "    <tr>\n",
       "      <th>std</th>\n",
       "      <td>85.854236</td>\n",
       "      <td>14.846809</td>\n",
       "      <td>21.778621</td>\n",
       "      <td>5.217457</td>\n",
       "    </tr>\n",
       "    <tr>\n",
       "      <th>min</th>\n",
       "      <td>0.700000</td>\n",
       "      <td>0.000000</td>\n",
       "      <td>0.300000</td>\n",
       "      <td>1.600000</td>\n",
       "    </tr>\n",
       "    <tr>\n",
       "      <th>25%</th>\n",
       "      <td>74.375000</td>\n",
       "      <td>9.975000</td>\n",
       "      <td>12.750000</td>\n",
       "      <td>10.375000</td>\n",
       "    </tr>\n",
       "    <tr>\n",
       "      <th>50%</th>\n",
       "      <td>149.750000</td>\n",
       "      <td>22.900000</td>\n",
       "      <td>25.750000</td>\n",
       "      <td>12.900000</td>\n",
       "    </tr>\n",
       "    <tr>\n",
       "      <th>75%</th>\n",
       "      <td>218.825000</td>\n",
       "      <td>36.525000</td>\n",
       "      <td>45.100000</td>\n",
       "      <td>17.400000</td>\n",
       "    </tr>\n",
       "    <tr>\n",
       "      <th>max</th>\n",
       "      <td>296.400000</td>\n",
       "      <td>49.600000</td>\n",
       "      <td>114.000000</td>\n",
       "      <td>27.000000</td>\n",
       "    </tr>\n",
       "  </tbody>\n",
       "</table>\n",
       "</div>"
      ],
      "text/plain": [
       "               TV       radio   newspaper       sales\n",
       "count  200.000000  200.000000  200.000000  200.000000\n",
       "mean   147.042500   23.264000   30.554000   14.022500\n",
       "std     85.854236   14.846809   21.778621    5.217457\n",
       "min      0.700000    0.000000    0.300000    1.600000\n",
       "25%     74.375000    9.975000   12.750000   10.375000\n",
       "50%    149.750000   22.900000   25.750000   12.900000\n",
       "75%    218.825000   36.525000   45.100000   17.400000\n",
       "max    296.400000   49.600000  114.000000   27.000000"
      ]
     },
     "execution_count": 3,
     "metadata": {},
     "output_type": "execute_result"
    }
   ],
   "source": [
    "df.describe()"
   ]
  },
  {
   "cell_type": "code",
   "execution_count": 4,
   "id": "6a75f79e",
   "metadata": {},
   "outputs": [
    {
     "data": {
      "image/png": "[encoded data removed]",
      "text/plain": [
       "<Figure size 432x288 with 1 Axes>"
      ]
     },
     "metadata": {
      "needs_background": "light"
     },
     "output_type": "display_data"
    },
    {
     "data": {
      "image/png": "[encoded data removed]",
      "text/plain": [
       "<Figure size 432x288 with 1 Axes>"
      ]
     },
     "metadata": {
      "needs_background": "light"
     },
     "output_type": "display_data"
    },
    {
     "data": {
      "image/png": "[encoded data removed]",
      "text/plain": [
       "<Figure size 432x288 with 1 Axes>"
      ]
     },
     "metadata": {
      "needs_background": "light"
     },
     "output_type": "display_data"
    },
    {
     "data": {
      "image/png": "[encoded data removed]",
      "text/plain": [
       "<Figure size 432x288 with 1 Axes>"
      ]
     },
     "metadata": {
      "needs_background": "light"
     },
     "output_type": "display_data"
    }
   ],
   "source": [
    "#Assumption 1: There should be no outliers in the data\n",
    "#Check using boxplot.\n",
    "for i in df.columns:\n",
    "    df.boxplot(column=i)\n",
    "    plt.show()"
   ]
  },
  {
   "cell_type": "markdown",
   "id": "e61c4434",
   "metadata": {},
   "source": [
    "If we find out extreme outlier we eliminate them or treat them before proceeding."
   ]
  },
  {
   "cell_type": "code",
   "execution_count": 5,
   "id": "ac77a172",
   "metadata": {},
   "outputs": [
    {
     "name": "stderr",
     "output_type": "stream",
     "text": [
      "C:\\Users\\shrey\\anaconda3\\lib\\site-packages\\seaborn\\distributions.py:2619: FutureWarning: `distplot` is a deprecated function and will be removed in a future version. Please adapt your code to use either `displot` (a figure-level function with similar flexibility) or `histplot` (an axes-level function for histograms).\n",
      "  warnings.warn(msg, FutureWarning)\n"
     ]
    },
    {
     "data": {
      "text/plain": [
       "<AxesSubplot:xlabel='newspaper', ylabel='Density'>"
      ]
     },
     "execution_count": 5,
     "metadata": {},
     "output_type": "execute_result"
    },
    {
     "data": {
      "image/png": "[encoded data removed]",
      "text/plain": [
       "<Figure size 432x288 with 1 Axes>"
      ]
     },
     "metadata": {
      "needs_background": "light"
     },
     "output_type": "display_data"
    }
   ],
   "source": [
    "sns.distplot(df.newspaper)"
   ]
  },
  {
   "cell_type": "code",
   "execution_count": 6,
   "id": "78a8aa53",
   "metadata": {},
   "outputs": [
    {
     "data": {
      "text/plain": [
       "<seaborn.axisgrid.PairGrid at 0x263bc5a77f0>"
      ]
     },
     "execution_count": 6,
     "metadata": {},
     "output_type": "execute_result"
    },
    {
     "data": {
      "image/png": "[encoded data removed]",
      "text/plain": [
       "<Figure size 540x180 with 3 Axes>"
      ]
     },
     "metadata": {
      "needs_background": "light"
     },
     "output_type": "display_data"
    }
   ],
   "source": [
    "#Assumption 2: Assumption of linerarity: Every ind var should have a \n",
    "#linear relationship with the dep var\n",
    "\n",
    "sns.pairplot(df,x_vars=[\"TV\",\"radio\",\"newspaper\"],y_vars=\"sales\",kind=\"reg\")"
   ]
  },
  {
   "cell_type": "markdown",
   "id": "b1467932",
   "metadata": {},
   "source": [
    "when there is situation when there is no linear relation so either we can drop that varibale,but in \n",
    "some case that variable is important we cant drop it so we have to switch the algo"
   ]
  },
  {
   "cell_type": "code",
   "execution_count": 7,
   "id": "51477626",
   "metadata": {},
   "outputs": [],
   "source": [
    "#create X and Y\n",
    "x=df[[\"TV\",\"radio\",\"newspaper\"]]\n",
    "y=df[\"sales\"]\n",
    "#x=df.iloc[:,0:-1]\n",
    "#y=df.iloc[:-1]"
   ]
  },
  {
   "cell_type": "code",
   "execution_count": 8,
   "id": "dd8672a0",
   "metadata": {},
   "outputs": [
    {
     "name": "stdout",
     "output_type": "stream",
     "text": [
      "(200, 3)\n",
      "(200,)\n"
     ]
    }
   ],
   "source": [
    "print(x.shape)\n",
    "print(y.shape)"
   ]
  },
  {
   "cell_type": "code",
   "execution_count": 9,
   "id": "f517a711",
   "metadata": {},
   "outputs": [
    {
     "name": "stderr",
     "output_type": "stream",
     "text": [
      "C:\\Users\\shrey\\anaconda3\\lib\\site-packages\\seaborn\\distributions.py:2619: FutureWarning: `distplot` is a deprecated function and will be removed in a future version. Please adapt your code to use either `displot` (a figure-level function with similar flexibility) or `histplot` (an axes-level function for histograms).\n",
      "  warnings.warn(msg, FutureWarning)\n"
     ]
    },
    {
     "data": {
      "text/plain": [
       "<AxesSubplot:xlabel='sales', ylabel='Density'>"
      ]
     },
     "execution_count": 9,
     "metadata": {},
     "output_type": "execute_result"
    },
    {
     "data": {
      "image/png": "[encoded data removed]",
      "text/plain": [
       "<Figure size 432x288 with 1 Axes>"
      ]
     },
     "metadata": {
      "needs_background": "light"
     },
     "output_type": "display_data"
    }
   ],
   "source": [
    "#Assumption of Normality: The dependent variable should follow an approximate normal distribution.\n",
    "sns.distplot(y)"
   ]
  },
  {
   "cell_type": "markdown",
   "id": "2359126a",
   "metadata": {},
   "source": [
    "If y doesnot follows a normal distribution you can go towards log transform"
   ]
  },
  {
   "cell_type": "code",
   "execution_count": 10,
   "id": "4c0f5f77",
   "metadata": {},
   "outputs": [
    {
     "data": {
      "text/plain": [
       "'log Transformation\\ny_log=np.log(y)'"
      ]
     },
     "execution_count": 10,
     "metadata": {},
     "output_type": "execute_result"
    }
   ],
   "source": [
    "'''log Transformation\n",
    "y_log=np.log(y)'''"
   ]
  },
  {
   "cell_type": "code",
   "execution_count": 11,
   "id": "7532d973",
   "metadata": {},
   "outputs": [
    {
     "name": "stdout",
     "output_type": "stream",
     "text": [
      "TV          -0.069328\n",
      "radio        0.093467\n",
      "newspaper    0.887996\n",
      "dtype: float64\n",
      "\n",
      "newspaper    0.887996\n",
      "dtype: float64\n",
      "\n"
     ]
    },
    {
     "name": "stderr",
     "output_type": "stream",
     "text": [
      "C:\\Users\\shrey\\AppData\\Local\\Temp\\ipykernel_19392\\2120979048.py:12: SettingWithCopyWarning: \n",
      "A value is trying to be set on a copy of a slice from a DataFrame.\n",
      "Try using .loc[row_indexer,col_indexer] = value instead\n",
      "\n",
      "See the caveats in the documentation: https://pandas.pydata.org/pandas-docs/stable/user_guide/indexing.html#returning-a-view-versus-a-copy\n",
      "  x[data_num_skewed.index] = np.log1p(x[data_num_skewed.index])\n"
     ]
    }
   ],
   "source": [
    "from scipy.stats import skew\n",
    "#finding the skewness in each variable\n",
    "data_num_skew = x.apply(lambda i: skew(i.dropna()))#will drop null values and will display the skew value of i iterate variable\n",
    "#subsetting the variables that are highly skewed\n",
    "data_num_skewed = data_num_skew[(data_num_skew > .75) | (data_num_skew < -.75)]\n",
    "print(data_num_skew)\n",
    "print()\n",
    "print(data_num_skewed)\n",
    "print()\n",
    "import numpy as np\n",
    "# apply log + 1 transformation for all numeric features with skewness over .75\n",
    "x[data_num_skewed.index] = np.log1p(x[data_num_skewed.index])\n",
    "#log1p=It is use to avoid getting a infinite value when the data consist of 0 value find by min of data else use np.log only"
   ]
  },
  {
   "cell_type": "code",
   "execution_count": 12,
   "id": "ca87353f",
   "metadata": {},
   "outputs": [
    {
     "name": "stdout",
     "output_type": "stream",
     "text": [
      "                 TV     radio  newspaper\n",
      "TV         1.000000  0.054809   0.030951\n",
      "radio      0.054809  1.000000   0.251909\n",
      "newspaper  0.030951  0.251909   1.000000\n"
     ]
    },
    {
     "data": {
      "text/plain": [
       "<AxesSubplot:>"
      ]
     },
     "execution_count": 12,
     "metadata": {},
     "output_type": "execute_result"
    },
    {
     "data": {
      "image/png": "[encoded data removed]",
      "text/plain": [
       "<Figure size 432x288 with 2 Axes>"
      ]
     },
     "metadata": {
      "needs_background": "light"
     },
     "output_type": "display_data"
    }
   ],
   "source": [
    "#Asusumption of no multicollinearity: There should be no multicollinearity between the independent varaibles.\n",
    "#Multicollinearity is the relationship amongst the independent variables.\n",
    "corr_df=x.corr(method=\"pearson\")\n",
    "print(corr_df)\n",
    "\n",
    "sns.heatmap(corr_df,vmax=1.0,vmin=-1.0,annot=True)"
   ]
  },
  {
   "cell_type": "code",
   "execution_count": 13,
   "id": "bee48685",
   "metadata": {},
   "outputs": [
    {
     "data": {
      "text/html": [
       "<div>\n",
       "<style scoped>\n",
       "    .dataframe tbody tr th:only-of-type {\n",
       "        vertical-align: middle;\n",
       "    }\n",
       "\n",
       "    .dataframe tbody tr th {\n",
       "        vertical-align: top;\n",
       "    }\n",
       "\n",
       "    .dataframe thead th {\n",
       "        text-align: right;\n",
       "    }\n",
       "</style>\n",
       "<table border=\"1\" class=\"dataframe\">\n",
       "  <thead>\n",
       "    <tr style=\"text-align: right;\">\n",
       "      <th></th>\n",
       "      <th>features</th>\n",
       "      <th>VIF Factor</th>\n",
       "    </tr>\n",
       "  </thead>\n",
       "  <tbody>\n",
       "    <tr>\n",
       "      <th>0</th>\n",
       "      <td>TV</td>\n",
       "      <td>3.39</td>\n",
       "    </tr>\n",
       "    <tr>\n",
       "      <th>1</th>\n",
       "      <td>radio</td>\n",
       "      <td>3.63</td>\n",
       "    </tr>\n",
       "    <tr>\n",
       "      <th>2</th>\n",
       "      <td>newspaper</td>\n",
       "      <td>5.44</td>\n",
       "    </tr>\n",
       "  </tbody>\n",
       "</table>\n",
       "</div>"
      ],
      "text/plain": [
       "    features  VIF Factor\n",
       "0         TV        3.39\n",
       "1      radio        3.63\n",
       "2  newspaper        5.44"
      ]
     },
     "execution_count": 13,
     "metadata": {},
     "output_type": "execute_result"
    }
   ],
   "source": [
    "from statsmodels.stats.outliers_influence import variance_inflation_factor as vif\n",
    "\n",
    "vif_df = pd.DataFrame()\n",
    "vif_df[\"features\"] = x.columns\n",
    "vif_df[\"VIF Factor\"] = [vif(x.values, i) for i in range((len(x.columns)))]\n",
    "vif_df.round(2),\n",
    "\n",
    "#X.drop(\"newspaper\",axis=1,inplace=True)\n",
    "#return the VIF code"
   ]
  },
  {
   "cell_type": "markdown",
   "id": "ec4351a5",
   "metadata": {},
   "source": [
    "# Train-Test Split"
   ]
  },
  {
   "cell_type": "code",
   "execution_count": 14,
   "id": "e487b37f",
   "metadata": {},
   "outputs": [],
   "source": [
    "from sklearn.model_selection import train_test_split\n",
    "x_train, x_test, y_train, y_test = train_test_split(x, y, test_size=0.2, random_state=10) \n",
    "#random state takes random sample from data"
   ]
  },
  {
   "cell_type": "code",
   "execution_count": 15,
   "id": "56deaf50",
   "metadata": {},
   "outputs": [
    {
     "name": "stdout",
     "output_type": "stream",
     "text": [
      "(160, 3)\n",
      "(40, 3)\n",
      "(160,)\n",
      "(40,)\n"
     ]
    }
   ],
   "source": [
    "print(x_train.shape)\n",
    "print(x_test.shape)\n",
    "print(y_train.shape)\n",
    "print(y_test.shape)"
   ]
  },
  {
   "cell_type": "markdown",
   "id": "614bdf82",
   "metadata": {},
   "source": [
    "# Creating the model"
   ]
  },
  {
   "cell_type": "code",
   "execution_count": 16,
   "id": "c800ed7b",
   "metadata": {},
   "outputs": [],
   "source": [
    "from sklearn.linear_model import LinearRegression\n",
    "lm = LinearRegression()"
   ]
  },
  {
   "cell_type": "markdown",
   "id": "c2f99dcc",
   "metadata": {},
   "source": [
    "# Training the model"
   ]
  },
  {
   "cell_type": "code",
   "execution_count": 17,
   "id": "4edff569",
   "metadata": {},
   "outputs": [
    {
     "data": {
      "text/plain": [
       "LinearRegression()"
      ]
     },
     "execution_count": 17,
     "metadata": {},
     "output_type": "execute_result"
    }
   ],
   "source": [
    "lm.fit(x_train,y_train)"
   ]
  },
  {
   "cell_type": "code",
   "execution_count": 18,
   "id": "e305764d",
   "metadata": {},
   "outputs": [
    {
     "name": "stdout",
     "output_type": "stream",
     "text": [
      "3.353291385815151\n",
      "[ 0.0437425   0.19303708 -0.04895137]\n"
     ]
    }
   ],
   "source": [
    "print(lm.intercept_)  #Beta_0\n",
    "print(lm.coef_) #Beta1,Beta2,....Beta_n"
   ]
  },
  {
   "cell_type": "markdown",
   "id": "9d153c27",
   "metadata": {},
   "source": [
    "# Equation Generation"
   ]
  },
  {
   "cell_type": "code",
   "execution_count": 19,
   "id": "fcb52aa8",
   "metadata": {},
   "outputs": [
    {
     "data": {
      "text/html": [
       "<div>\n",
       "<style scoped>\n",
       "    .dataframe tbody tr th:only-of-type {\n",
       "        vertical-align: middle;\n",
       "    }\n",
       "\n",
       "    .dataframe tbody tr th {\n",
       "        vertical-align: top;\n",
       "    }\n",
       "\n",
       "    .dataframe thead th {\n",
       "        text-align: right;\n",
       "    }\n",
       "</style>\n",
       "<table border=\"1\" class=\"dataframe\">\n",
       "  <thead>\n",
       "    <tr style=\"text-align: right;\">\n",
       "      <th></th>\n",
       "      <th>Coefficent</th>\n",
       "    </tr>\n",
       "  </thead>\n",
       "  <tbody>\n",
       "    <tr>\n",
       "      <th>TV</th>\n",
       "      <td>0.043743</td>\n",
       "    </tr>\n",
       "    <tr>\n",
       "      <th>radio</th>\n",
       "      <td>0.193037</td>\n",
       "    </tr>\n",
       "    <tr>\n",
       "      <th>newspaper</th>\n",
       "      <td>-0.048951</td>\n",
       "    </tr>\n",
       "  </tbody>\n",
       "</table>\n",
       "</div>"
      ],
      "text/plain": [
       "           Coefficent\n",
       "TV           0.043743\n",
       "radio        0.193037\n",
       "newspaper   -0.048951"
      ]
     },
     "execution_count": 19,
     "metadata": {},
     "output_type": "execute_result"
    }
   ],
   "source": [
    "cdf= pd.DataFrame(lm.coef_,x.columns,columns=['Coefficent'])\n",
    "cdf"
   ]
  },
  {
   "cell_type": "code",
   "execution_count": 20,
   "id": "3f4a1189",
   "metadata": {},
   "outputs": [
    {
     "name": "stdout",
     "output_type": "stream",
     "text": [
      "[('TV', 0.04374250157742165), ('radio', 0.193037078973453), ('newspaper', -0.048951368222487926)]\n"
     ]
    }
   ],
   "source": [
    "print(list(zip(x.columns,lm.coef_)))"
   ]
  },
  {
   "cell_type": "markdown",
   "id": "7c53c102",
   "metadata": {},
   "source": [
    "1000 dollars investment increase in **TV** is associated with an **increase of \\$0.043743**.\n",
    " \n",
    " 1000 dollars investment increase in **radio** is associated with an **increase of \\$0.193037**.\n",
    " \n",
    " 1000 dollars investment increase in **newspaper** is associated with an **decrease of \\$0.048951**"
   ]
  },
  {
   "cell_type": "code",
   "execution_count": 21,
   "id": "5d6b5aa2",
   "metadata": {},
   "outputs": [
    {
     "data": {
      "text/plain": [
       "46.33495738581515"
      ]
     },
     "execution_count": 21,
     "metadata": {},
     "output_type": "execute_result"
    }
   ],
   "source": [
    "x1=100\n",
    "x2=200\n",
    "x3=np.log1p(0)\n",
    "y_pred=3.353291385815151+(0.0437425*x1)+(0.19303708*x2)+(-0.04895137*x3)\n",
    "y_pred"
   ]
  },
  {
   "cell_type": "markdown",
   "id": "fd8d7ace",
   "metadata": {},
   "source": [
    "# Predicting the model"
   ]
  },
  {
   "cell_type": "code",
   "execution_count": 22,
   "id": "31e713fc",
   "metadata": {},
   "outputs": [],
   "source": [
    "y_pred=lm.predict(x_test)"
   ]
  },
  {
   "cell_type": "code",
   "execution_count": 23,
   "id": "30f0885a",
   "metadata": {},
   "outputs": [
    {
     "data": {
      "text/plain": [
       "array([18.15026866, 12.96136899, 18.05815332, 23.66025079, 20.68751041,\n",
       "       14.26325872, 14.92774472, 21.38847375, 21.14752911, 12.75788534,\n",
       "       23.99735583,  7.20632737, 12.30777109, 19.22813333, 19.41581583,\n",
       "       13.44985803, 19.62619644,  9.24667496, 21.1052867 , 20.87838433,\n",
       "       15.52611251, 10.91695579, 22.82910679, 15.82915597, 17.40742204,\n",
       "        8.17170435, 11.88738387, 12.69866637, 21.71275044,  7.94920205,\n",
       "       12.49118989, 20.43292079,  4.71443086,  4.72126238, 16.7504848 ,\n",
       "       15.74384945,  6.74775596, 17.73750244,  9.01170001, 13.60841593])"
      ]
     },
     "execution_count": 23,
     "metadata": {},
     "output_type": "execute_result"
    }
   ],
   "source": [
    "y_pred"
   ]
  },
  {
   "cell_type": "code",
   "execution_count": 24,
   "id": "89d1769f",
   "metadata": {},
   "outputs": [],
   "source": [
    "new_df=pd.DataFrame()\n",
    "new_df=x_test.copy()\n",
    "\n",
    "new_df[\"Actual sales\"]=y_test\n",
    "new_df[\"Predicted sales\"]=y_pred\n",
    "new_df\n",
    "new_df=new_df.reset_index().drop(\"index\",axis=1)"
   ]
  },
  {
   "cell_type": "code",
   "execution_count": 25,
   "id": "c17fcab0",
   "metadata": {},
   "outputs": [
    {
     "data": {
      "text/plain": [
       "0.9208986647500219"
      ]
     },
     "execution_count": 25,
     "metadata": {},
     "output_type": "execute_result"
    }
   ],
   "source": [
    "lm.score(x_train,y_train)"
   ]
  },
  {
   "cell_type": "code",
   "execution_count": 26,
   "id": "19cf0a80",
   "metadata": {},
   "outputs": [
    {
     "data": {
      "text/plain": [
       "<AxesSubplot:>"
      ]
     },
     "execution_count": 26,
     "metadata": {},
     "output_type": "execute_result"
    },
    {
     "data": {
      "image/png": "[encoded data removed]",
      "text/plain": [
       "<Figure size 432x288 with 1 Axes>"
      ]
     },
     "metadata": {
      "needs_background": "light"
     },
     "output_type": "display_data"
    }
   ],
   "source": [
    "new_df[\"Actual sales\"].plot()\n",
    "new_df[\"Predicted sales\"].plot()"
   ]
  },
  {
   "cell_type": "markdown",
   "id": "39d0d6fa",
   "metadata": {},
   "source": [
    "# Evalution"
   ]
  },
  {
   "cell_type": "code",
   "execution_count": 27,
   "id": "fcd96c5c",
   "metadata": {},
   "outputs": [
    {
     "name": "stdout",
     "output_type": "stream",
     "text": [
      "R-squared: 0.834801071903532\n",
      "RMSE: 2.59297691109306\n",
      "Adj R-square: 0.8322725168816474\n"
     ]
    }
   ],
   "source": [
    "from sklearn.metrics import r2_score,mean_squared_error\n",
    "import numpy as np\n",
    "\n",
    "r2=r2_score(y_test,y_pred)\n",
    "print(\"R-squared:\",r2)\n",
    "\n",
    "rmse=np.sqrt(mean_squared_error(y_test,y_pred))\n",
    "print(\"RMSE:\",rmse)\n",
    "\n",
    "adjusted_r_squared = 1 - (1-r2)*(len(y)-1)/(len(y)-x.shape[1]-1)\n",
    "print(\"Adj R-square:\",adjusted_r_squared)\n"
   ]
  },
  {
   "cell_type": "code",
   "execution_count": 28,
   "id": "8eb2bad9",
   "metadata": {},
   "outputs": [
    {
     "name": "stdout",
     "output_type": "stream",
     "text": [
      "1.6\n",
      "25.5\n"
     ]
    }
   ],
   "source": [
    "print(y_test.min())\n",
    "print(y_test.max())"
   ]
  },
  {
   "cell_type": "code",
   "execution_count": 29,
   "id": "b674c0ef",
   "metadata": {},
   "outputs": [
    {
     "data": {
      "text/html": [
       "<div>\n",
       "<style scoped>\n",
       "    .dataframe tbody tr th:only-of-type {\n",
       "        vertical-align: middle;\n",
       "    }\n",
       "\n",
       "    .dataframe tbody tr th {\n",
       "        vertical-align: top;\n",
       "    }\n",
       "\n",
       "    .dataframe thead th {\n",
       "        text-align: right;\n",
       "    }\n",
       "</style>\n",
       "<table border=\"1\" class=\"dataframe\">\n",
       "  <thead>\n",
       "    <tr style=\"text-align: right;\">\n",
       "      <th></th>\n",
       "      <th>TV</th>\n",
       "      <th>radio</th>\n",
       "      <th>newspaper</th>\n",
       "      <th>Actual sales</th>\n",
       "      <th>Predicted sales</th>\n",
       "      <th>Deviation</th>\n",
       "    </tr>\n",
       "  </thead>\n",
       "  <tbody>\n",
       "    <tr>\n",
       "      <th>0</th>\n",
       "      <td>210.7</td>\n",
       "      <td>29.5</td>\n",
       "      <td>2.332144</td>\n",
       "      <td>18.4</td>\n",
       "      <td>18.150269</td>\n",
       "      <td>0.249731</td>\n",
       "    </tr>\n",
       "    <tr>\n",
       "      <th>1</th>\n",
       "      <td>8.7</td>\n",
       "      <td>48.9</td>\n",
       "      <td>4.330733</td>\n",
       "      <td>7.2</td>\n",
       "      <td>12.961369</td>\n",
       "      <td>-5.761369</td>\n",
       "    </tr>\n",
       "    <tr>\n",
       "      <th>2</th>\n",
       "      <td>218.4</td>\n",
       "      <td>27.7</td>\n",
       "      <td>3.996364</td>\n",
       "      <td>18.0</td>\n",
       "      <td>18.058153</td>\n",
       "      <td>-0.058153</td>\n",
       "    </tr>\n",
       "    <tr>\n",
       "      <th>3</th>\n",
       "      <td>283.6</td>\n",
       "      <td>42.0</td>\n",
       "      <td>4.207673</td>\n",
       "      <td>25.5</td>\n",
       "      <td>23.660251</td>\n",
       "      <td>1.839749</td>\n",
       "    </tr>\n",
       "    <tr>\n",
       "      <th>4</th>\n",
       "      <td>216.4</td>\n",
       "      <td>41.7</td>\n",
       "      <td>3.703768</td>\n",
       "      <td>22.6</td>\n",
       "      <td>20.687510</td>\n",
       "      <td>1.912490</td>\n",
       "    </tr>\n",
       "  </tbody>\n",
       "</table>\n",
       "</div>"
      ],
      "text/plain": [
       "      TV  radio  newspaper  Actual sales  Predicted sales  Deviation\n",
       "0  210.7   29.5   2.332144          18.4        18.150269   0.249731\n",
       "1    8.7   48.9   4.330733           7.2        12.961369  -5.761369\n",
       "2  218.4   27.7   3.996364          18.0        18.058153  -0.058153\n",
       "3  283.6   42.0   4.207673          25.5        23.660251   1.839749\n",
       "4  216.4   41.7   3.703768          22.6        20.687510   1.912490"
      ]
     },
     "execution_count": 29,
     "metadata": {},
     "output_type": "execute_result"
    }
   ],
   "source": [
    "new_df[\"Deviation\"]=new_df[\"Actual sales\"]-new_df[\"Predicted sales\"]\n",
    "new_df.to_excel(\"Sales Prediction.xlsx\",header=True,index=True)\n",
    "new_df.head()"
   ]
  },
  {
   "cell_type": "code",
   "execution_count": 30,
   "id": "14793436",
   "metadata": {},
   "outputs": [
    {
     "data": {
      "text/plain": [
       "<AxesSubplot:xlabel='sales'>"
      ]
     },
     "execution_count": 30,
     "metadata": {},
     "output_type": "execute_result"
    },
    {
     "data": {
      "image/png": "[encoded data removed]",
      "text/plain": [
       "<Figure size 432x288 with 1 Axes>"
      ]
     },
     "metadata": {
      "needs_background": "light"
     },
     "output_type": "display_data"
    }
   ],
   "source": [
    "sns.regplot(x=y_train,y=lm.predict(x_train),ci=95)  #ci is confidence interval"
   ]
  },
  {
   "cell_type": "markdown",
   "id": "53f48468",
   "metadata": {},
   "source": [
    "# Tuning the model (can do feature selection for better model)"
   ]
  },
  {
   "cell_type": "markdown",
   "id": "0cdffcf9",
   "metadata": {},
   "source": [
    "# Using Ridge"
   ]
  },
  {
   "cell_type": "code",
   "execution_count": 31,
   "id": "7c636acf",
   "metadata": {},
   "outputs": [
    {
     "name": "stdout",
     "output_type": "stream",
     "text": [
      "3.3522471725966003\n",
      "[ 0.04374234  0.19302603 -0.04853131]\n"
     ]
    }
   ],
   "source": [
    "from sklearn.linear_model import Ridge\n",
    "rdg=Ridge()\n",
    "rdg.fit(x_train,y_train)\n",
    "\n",
    "print(rdg.intercept_)\n",
    "print(rdg.coef_)"
   ]
  },
  {
   "cell_type": "code",
   "execution_count": 32,
   "id": "a81e31ae",
   "metadata": {},
   "outputs": [],
   "source": [
    "y_pred=rdg.predict(x_test)"
   ]
  },
  {
   "cell_type": "code",
   "execution_count": 33,
   "id": "a1b70024",
   "metadata": {},
   "outputs": [
    {
     "name": "stdout",
     "output_type": "stream",
     "text": [
      "R-squared: 0.8348082644975934\n",
      "RMSE: 2.592920462683998\n",
      "Adj R-square: 0.832279819566434\n"
     ]
    }
   ],
   "source": [
    "from sklearn.metrics import r2_score,mean_squared_error\n",
    "import numpy as np\n",
    "\n",
    "r2=r2_score(y_test,y_pred)\n",
    "print(\"R-squared:\",r2)\n",
    "\n",
    "rmse=np.sqrt(mean_squared_error(y_test,y_pred))\n",
    "print(\"RMSE:\",rmse)\n",
    "\n",
    "adjusted_r_squared = 1 - (1-r2)*(len(y)-1)/(len(y)-x.shape[1]-1)\n",
    "print(\"Adj R-square:\",adjusted_r_squared)"
   ]
  },
  {
   "cell_type": "markdown",
   "id": "bde865ea",
   "metadata": {},
   "source": [
    "# Using Lasso"
   ]
  },
  {
   "cell_type": "code",
   "execution_count": 34,
   "id": "018830c8",
   "metadata": {},
   "outputs": [
    {
     "name": "stdout",
     "output_type": "stream",
     "text": [
      "3.3367940582203186\n",
      "[ 0.04362374  0.18766033 -0.        ]\n"
     ]
    }
   ],
   "source": [
    "#As the R square value is increasing we can say that there is a slight change \n",
    "from sklearn.linear_model import Lasso\n",
    "from sklearn.linear_model import Lasso\n",
    "las=Lasso()\n",
    "las.fit(x_train,y_train)\n",
    "\n",
    "print(las.intercept_)\n",
    "print(las.coef_)"
   ]
  },
  {
   "cell_type": "code",
   "execution_count": 35,
   "id": "c4c6a509",
   "metadata": {},
   "outputs": [],
   "source": [
    "y_pred=las.predict(x_test)"
   ]
  },
  {
   "cell_type": "code",
   "execution_count": 36,
   "id": "c7f37862",
   "metadata": {},
   "outputs": [
    {
     "name": "stdout",
     "output_type": "stream",
     "text": [
      "R-squared: 0.8360506658527163\n",
      "RMSE: 2.5831514271094234\n",
      "Adj R-square: 0.8335412372688292\n",
      "\n",
      "The previous values for linear regression without tuning  were 3.353291385815149,[ 0.0437425, 0.19303708 ,-0.04895137] \n",
      "The previous values for linear regression with tuning by ridge  were 3.3522471725965985,[ 0.04374234  0.19302603 -0.04853131]\n",
      "The previous values for linear regression with tuning by lasso were 3.336794058220317,[ 0.04362374  0.18766033 -0.] \n"
     ]
    }
   ],
   "source": [
    "from sklearn.metrics import r2_score,mean_squared_error\n",
    "import numpy as np\n",
    "\n",
    "r2=r2_score(y_test,y_pred)\n",
    "print(\"R-squared:\",r2)\n",
    "\n",
    "rmse=np.sqrt(mean_squared_error(y_test,y_pred))\n",
    "print(\"RMSE:\",rmse)\n",
    "\n",
    "adjusted_r_squared = 1 - (1-r2)*(len(y)-1)/(len(y)-x.shape[1]-1)\n",
    "print(\"Adj R-square:\",adjusted_r_squared)\n",
    "print()\n",
    "print(\"The previous values for linear regression without tuning  were 3.353291385815149,[ 0.0437425, 0.19303708 ,-0.04895137] \")\n",
    "print(\"The previous values for linear regression with tuning by ridge  were 3.3522471725965985,[ 0.04374234  0.19302603 -0.04853131]\")\n",
    "print(\"The previous values for linear regression with tuning by lasso were 3.336794058220317,[ 0.04362374  0.18766033 -0.] \")"
   ]
  },
  {
   "cell_type": "markdown",
   "id": "964f31fb",
   "metadata": {},
   "source": [
    "# Using OLS-->StatsModel"
   ]
  },
  {
   "cell_type": "markdown",
   "id": "38e3602e",
   "metadata": {},
   "source": [
    "Train the model on the entire data only one and then use it for predictions."
   ]
  },
  {
   "cell_type": "code",
   "execution_count": 37,
   "id": "b0f1a65e",
   "metadata": {},
   "outputs": [
    {
     "data": {
      "text/plain": [
       "(160, 4)"
      ]
     },
     "execution_count": 37,
     "metadata": {},
     "output_type": "execute_result"
    }
   ],
   "source": [
    "new_df=pd.DataFrame()\n",
    "new_df=x_train.copy()\n",
    "\n",
    "new_df[\"sales\"]=y_train.copy()\n",
    "new_df.shape"
   ]
  },
  {
   "cell_type": "code",
   "execution_count": 38,
   "id": "0a556d23",
   "metadata": {},
   "outputs": [
    {
     "name": "stdout",
     "output_type": "stream",
     "text": [
      "Intercept    3.353291\n",
      "TV           0.043743\n",
      "radio        0.193037\n",
      "newspaper   -0.048951\n",
      "dtype: float64\n",
      "                            OLS Regression Results                            \n",
      "==============================================================================\n",
      "Dep. Variable:                  sales   R-squared:                       0.921\n",
      "Model:                            OLS   Adj. R-squared:                  0.919\n",
      "Method:                 Least Squares   F-statistic:                     605.4\n",
      "Date:                Fri, 09 Dec 2022   Prob (F-statistic):           1.10e-85\n",
      "Time:                        10:18:32   Log-Likelihood:                -276.63\n",
      "No. Observations:                 160   AIC:                             561.3\n",
      "Df Residuals:                     156   BIC:                             573.6\n",
      "Df Model:                           3                                         \n",
      "Covariance Type:            nonrobust                                         \n",
      "==============================================================================\n",
      "                 coef    std err          t      P>|t|      [0.025      0.975]\n",
      "------------------------------------------------------------------------------\n",
      "Intercept      3.3533      0.442      7.578      0.000       2.479       4.227\n",
      "TV             0.0437      0.001     32.516      0.000       0.041       0.046\n",
      "radio          0.1930      0.008     24.946      0.000       0.178       0.208\n",
      "newspaper     -0.0490      0.125     -0.391      0.697      -0.297       0.199\n",
      "==============================================================================\n",
      "Omnibus:                       12.594   Durbin-Watson:                   2.106\n",
      "Prob(Omnibus):                  0.002   Jarque-Bera (JB):               13.403\n",
      "Skew:                          -0.699   Prob(JB):                      0.00123\n",
      "Kurtosis:                       3.237   Cond. No.                         697.\n",
      "==============================================================================\n",
      "\n",
      "Notes:\n",
      "[1] Standard Errors assume that the covariance matrix of the errors is correctly specified.\n"
     ]
    }
   ],
   "source": [
    "import statsmodels.formula.api as sm\n",
    "\n",
    "#create a fitted model with all three features\n",
    "lm_model = sm.ols(formula=\"sales ~ TV + radio + newspaper\",\n",
    "                 data=new_df).fit()\n",
    "\n",
    "print(lm_model.params)\n",
    "print(lm_model.summary())"
   ]
  },
  {
   "cell_type": "code",
   "execution_count": 39,
   "id": "3e624d19",
   "metadata": {},
   "outputs": [],
   "source": [
    "y_pred_new=lm_model.predict(x_test)"
   ]
  },
  {
   "cell_type": "code",
   "execution_count": 40,
   "id": "eec11275",
   "metadata": {},
   "outputs": [
    {
     "name": "stdout",
     "output_type": "stream",
     "text": [
      "R-squared: 0.8348010719035376\n",
      "RMSE: 2.5929769110930163\n",
      "Adj R-square: 0.8322725168816529\n"
     ]
    }
   ],
   "source": [
    "from sklearn.metrics import r2_score,mean_squared_error\n",
    "import numpy as np\n",
    "\n",
    "r2=r2_score(y_test,y_pred_new)\n",
    "print(\"R-squared:\",r2)\n",
    "\n",
    "rmse=np.sqrt(mean_squared_error(y_test,y_pred_new))\n",
    "print(\"RMSE:\",rmse)\n",
    "\n",
    "adjusted_r_squared = 1 - (1-r2)*(len(y)-1)/(len(y)-x.shape[1]-1)\n",
    "print(\"Adj R-square:\",adjusted_r_squared)\n"
   ]
  },
  {
   "cell_type": "markdown",
   "id": "6d34e578",
   "metadata": {},
   "source": [
    "# Without Newspaper"
   ]
  },
  {
   "cell_type": "code",
   "execution_count": 41,
   "id": "1303d28b",
   "metadata": {},
   "outputs": [
    {
     "name": "stdout",
     "output_type": "stream",
     "text": [
      "Intercept    3.217026\n",
      "TV           0.043721\n",
      "radio        0.192425\n",
      "dtype: float64\n",
      "                            OLS Regression Results                            \n",
      "==============================================================================\n",
      "Dep. Variable:                  sales   R-squared:                       0.921\n",
      "Model:                            OLS   Adj. R-squared:                  0.920\n",
      "Method:                 Least Squares   F-statistic:                     912.9\n",
      "Date:                Fri, 09 Dec 2022   Prob (F-statistic):           3.47e-87\n",
      "Time:                        10:18:33   Log-Likelihood:                -276.70\n",
      "No. Observations:                 160   AIC:                             559.4\n",
      "Df Residuals:                     157   BIC:                             568.6\n",
      "Df Model:                           2                                         \n",
      "Covariance Type:            nonrobust                                         \n",
      "==============================================================================\n",
      "                 coef    std err          t      P>|t|      [0.025      0.975]\n",
      "------------------------------------------------------------------------------\n",
      "Intercept      3.2170      0.271     11.855      0.000       2.681       3.753\n",
      "TV             0.0437      0.001     32.616      0.000       0.041       0.046\n",
      "radio          0.1924      0.008     25.462      0.000       0.177       0.207\n",
      "==============================================================================\n",
      "Omnibus:                       12.555   Durbin-Watson:                   2.100\n",
      "Prob(Omnibus):                  0.002   Jarque-Bera (JB):               13.347\n",
      "Skew:                          -0.697   Prob(JB):                      0.00126\n",
      "Kurtosis:                       3.241   Cond. No.                         418.\n",
      "==============================================================================\n",
      "\n",
      "Notes:\n",
      "[1] Standard Errors assume that the covariance matrix of the errors is correctly specified.\n"
     ]
    }
   ],
   "source": [
    "import statsmodels.formula.api as sm\n",
    "\n",
    "#create a fitted model with all three features\n",
    "lm_model = sm.ols(formula=\"sales ~ TV + radio\",\n",
    "                 data=new_df).fit()\n",
    "\n",
    "print(lm_model.params)\n",
    "print(lm_model.summary())"
   ]
  },
  {
   "cell_type": "code",
   "execution_count": 42,
   "id": "7564e76c",
   "metadata": {},
   "outputs": [],
   "source": [
    "y_pred_new_=lm_model.predict(x_test)"
   ]
  },
  {
   "cell_type": "code",
   "execution_count": 43,
   "id": "53c41e40",
   "metadata": {},
   "outputs": [
    {
     "name": "stdout",
     "output_type": "stream",
     "text": [
      "R-squared: 0.8354496662944217\n",
      "RMSE: 2.5878817077378105\n",
      "Adj R-square: 0.8329310387377037\n"
     ]
    }
   ],
   "source": [
    "from sklearn.metrics import r2_score,mean_squared_error\n",
    "import numpy as np\n",
    "\n",
    "r2=r2_score(y_test,y_pred_new_)\n",
    "print(\"R-squared:\",r2)\n",
    "\n",
    "rmse=np.sqrt(mean_squared_error(y_test,y_pred_new_))\n",
    "print(\"RMSE:\",rmse)\n",
    "\n",
    "adjusted_r_squared = 1 - (1-r2)*(len(y)-1)/(len(y)-x.shape[1]-1)\n",
    "print(\"Adj R-square:\",adjusted_r_squared)\n"
   ]
  },
  {
   "cell_type": "markdown",
   "id": "3a75f404",
   "metadata": {},
   "source": [
    "# Post-Model building"
   ]
  },
  {
   "cell_type": "code",
   "execution_count": 45,
   "id": "29eaa437",
   "metadata": {},
   "outputs": [
    {
     "name": "stderr",
     "output_type": "stream",
     "text": [
      "C:\\Users\\shrey\\anaconda3\\lib\\site-packages\\seaborn\\_decorators.py:36: FutureWarning: Pass the following variables as keyword args: x, y. From version 0.12, the only valid positional argument will be `data`, and passing other arguments without an explicit keyword will result in an error or misinterpretation.\n",
      "  warnings.warn(\n"
     ]
    },
    {
     "data": {
      "text/plain": [
       "Text(0, 0.5, 'Residuals')"
      ]
     },
     "execution_count": 45,
     "metadata": {},
     "output_type": "execute_result"
    },
    {
     "data": {
      "image/png": "[encoded data removed]",
      "text/plain": [
       "<Figure size 864x576 with 1 Axes>"
      ]
     },
     "metadata": {
      "needs_background": "light"
     },
     "output_type": "display_data"
    }
   ],
   "source": [
    "#Assumption: Errors should be random\n",
    "#checked using Residual v/s Fitted plot\n",
    "\n",
    "import matplotlib.pyplot as plt\n",
    "plot_lm_1 = plt.figure(1)\n",
    "plot_lm_1.set_figheight(8)\n",
    "plot_lm_1.set_figwidth(12)\n",
    "\n",
    "# fitted values (need a constant term for intercept)\n",
    "model_fitted_y = lm_model.fittedvalues\n",
    "\n",
    "plot_lm_1.axes[0] = sns.residplot(model_fitted_y, 'sales', data=new_df, lowess=True)\n",
    "\n",
    "plot_lm_1.axes[0].set_title('Residuals vs Fitted')\n",
    "plot_lm_1.axes[0].set_xlabel('Fitted values')\n",
    "plot_lm_1.axes[0].set_ylabel('Residuals')"
   ]
  },
  {
   "cell_type": "code",
   "execution_count": 47,
   "id": "4746aa72",
   "metadata": {},
   "outputs": [
    {
     "data": {
      "image/png": "[encoded data removed]",
      "text/plain": [
       "<Figure size 432x288 with 1 Axes>"
      ]
     },
     "metadata": {
      "needs_background": "light"
     },
     "output_type": "display_data"
    }
   ],
   "source": [
    "##Assumption: Errors should follow a approximate normal distribution\n",
    "#checked using Normal QQ plot\n",
    "\n",
    "res = lm_model.resid\n",
    "import statsmodels.api as stm\n",
    "import scipy.stats as stats\n",
    "fig = stm.qqplot(res,  fit=True, line='45')\n",
    "plt.title('Normal Q-Q')\n",
    "plt.xlabel('Theoretical Quantiles')\n",
    "plt.ylabel('Standardized Residuals')\n",
    "plt.show()"
   ]
  },
  {
   "cell_type": "markdown",
   "id": "fd85cfc9",
   "metadata": {},
   "source": [
    "The error points should follow the red diagonal line to indicates that they follow normal distribution."
   ]
  },
  {
   "cell_type": "code",
   "execution_count": 48,
   "id": "26e7d96b",
   "metadata": {},
   "outputs": [
    {
     "name": "stderr",
     "output_type": "stream",
     "text": [
      "C:\\Users\\shrey\\anaconda3\\lib\\site-packages\\seaborn\\_decorators.py:36: FutureWarning: Pass the following variables as keyword args: x, y. From version 0.12, the only valid positional argument will be `data`, and passing other arguments without an explicit keyword will result in an error or misinterpretation.\n",
      "  warnings.warn(\n"
     ]
    },
    {
     "data": {
      "text/plain": [
       "Text(0, 0.5, '$\\\\sqrt{|Standardized Residuals|}$')"
      ]
     },
     "execution_count": 48,
     "metadata": {},
     "output_type": "execute_result"
    },
    {
     "data": {
      "image/png": "[encoded data removed]",
      "text/plain": [
       "<Figure size 864x576 with 1 Axes>"
      ]
     },
     "metadata": {
      "needs_background": "light"
     },
     "output_type": "display_data"
    }
   ],
   "source": [
    "#Assumption: Errors should follow a constant variance-->Homoskedasticity\n",
    "#checked using Scale location plot\n",
    "\n",
    "# normalized residuals\n",
    "model_norm_residuals = lm_model.get_influence().resid_studentized_internal\n",
    "# absolute squared normalized residuals\n",
    "model_norm_residuals_abs_sqrt = np.sqrt(np.abs(model_norm_residuals))\n",
    "\n",
    "plot_lm_3 = plt.figure(3)\n",
    "plot_lm_3.set_figheight(8)\n",
    "plot_lm_3.set_figwidth(12)\n",
    "plt.scatter(model_fitted_y, model_norm_residuals_abs_sqrt, alpha=0.5)\n",
    "sns.regplot(model_fitted_y, model_norm_residuals_abs_sqrt, lowess=True)\n",
    "\n",
    "\n",
    "plot_lm_3.axes[0].set_title('Scale-Location')\n",
    "plot_lm_3.axes[0].set_xlabel('Fitted values')\n",
    "plot_lm_3.axes[0].set_ylabel('$\\sqrt{|Standardized Residuals|}$')"
   ]
  },
  {
   "cell_type": "markdown",
   "id": "dd0eb670",
   "metadata": {},
   "source": [
    "We should get approximately horizontal line, i.e the line should not have stiff angle"
   ]
  },
  {
   "cell_type": "code",
   "execution_count": null,
   "id": "5f134e18",
   "metadata": {},
   "outputs": [],
   "source": []
  }
 ],
 "metadata": {
  "kernelspec": {
   "display_name": "Python 3 (ipykernel)",
   "language": "python",
   "name": "python3"
  },
  "language_info": {
   "codemirror_mode": {
    "name": "ipython",
    "version": 3
   },
   "file_extension": ".py",
   "mimetype": "text/x-python",
   "name": "python",
   "nbconvert_exporter": "python",
   "pygments_lexer": "ipython3",
   "version": "3.9.12"
  }
 },
 "nbformat": 4,
 "nbformat_minor": 5
}
